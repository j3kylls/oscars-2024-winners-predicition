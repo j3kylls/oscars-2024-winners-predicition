{
 "cells": [
  {
   "cell_type": "code",
   "execution_count": 1,
   "metadata": {},
   "outputs": [
    {
     "name": "stdout",
     "output_type": "stream",
     "text": [
      "hello\n"
     ]
    }
   ],
   "source": [
    "print(\"hello\")"
   ]
  },
  {
   "cell_type": "code",
   "execution_count": 3,
   "metadata": {},
   "outputs": [],
   "source": [
    "import pandas as pd"
   ]
  },
  {
   "cell_type": "code",
   "execution_count": 5,
   "metadata": {},
   "outputs": [],
   "source": [
    "path = \"C:/Users/Dell/Downloads/\"\n",
    "filenames = [\"golden_globe_awards.csv\",\"screen_actor_guild_awards.csv\",\"bafta_films.csv\",\"the_oscar_award.csv\"]"
   ]
  },
  {
   "cell_type": "code",
   "execution_count": 10,
   "metadata": {},
   "outputs": [],
   "source": [
    "df = [0,0,0,0]\n",
    "for i in range(0,4):\n",
    "    df[i] = pd.read_csv(path+filenames[i])\n"
   ]
  },
  {
   "cell_type": "code",
   "execution_count": 14,
   "metadata": {},
   "outputs": [
    {
     "data": {
      "text/plain": [
       "<bound method DataFrame.info of       year_film  year_award  ceremony  \\\n",
       "0          1943        1944         1   \n",
       "1          1943        1944         1   \n",
       "2          1943        1944         1   \n",
       "3          1943        1944         1   \n",
       "4          1943        1944         1   \n",
       "...         ...         ...       ...   \n",
       "7986       2019        2020        77   \n",
       "7987       2019        2020        77   \n",
       "7988       2019        2020        77   \n",
       "7989       2019        2020        77   \n",
       "7990       2019        2020        77   \n",
       "\n",
       "                                               category  \\\n",
       "0     Best Performance by an Actress in a Supporting...   \n",
       "1     Best Performance by an Actor in a Supporting R...   \n",
       "2                        Best Director - Motion Picture   \n",
       "3                                               Picture   \n",
       "4                             Actress In A Leading Role   \n",
       "...                                                 ...   \n",
       "7986  Best Performance by an Actor in a Supporting R...   \n",
       "7987  Best Performance by an Actor in a Supporting R...   \n",
       "7988  Best Performance by an Actor in a Supporting R...   \n",
       "7989                             Cecil B. deMille Award   \n",
       "7990                                Carol Burnett Award   \n",
       "\n",
       "                     nominee                     film    win  \n",
       "0             Katina Paxinou  For Whom The Bell Tolls   True  \n",
       "1              Akim Tamiroff  For Whom The Bell Tolls   True  \n",
       "2                 Henry King   The Song Of Bernadette   True  \n",
       "3     The Song Of Bernadette                      NaN   True  \n",
       "4             Jennifer Jones   The Song Of Bernadette   True  \n",
       "...                      ...                      ...    ...  \n",
       "7986           Kieran Culkin               Succession  False  \n",
       "7987            Andrew Scott                  Fleabag  False  \n",
       "7988           Henry Winkler                    Barry  False  \n",
       "7989               Tom Hanks                      NaN  False  \n",
       "7990         Ellen DeGeneres                      NaN  False  \n",
       "\n",
       "[7991 rows x 7 columns]>"
      ]
     },
     "execution_count": 14,
     "metadata": {},
     "output_type": "execute_result"
    }
   ],
   "source": [
    "df[0].info # golden globes"
   ]
  },
  {
   "cell_type": "code",
   "execution_count": 16,
   "metadata": {},
   "outputs": [
    {
     "data": {
      "text/plain": [
       "<bound method DataFrame.info of                                                year  \\\n",
       "0     2020 - 26th Annual Screen Actors Guild Awards   \n",
       "1     2020 - 26th Annual Screen Actors Guild Awards   \n",
       "2     2020 - 26th Annual Screen Actors Guild Awards   \n",
       "3     2020 - 26th Annual Screen Actors Guild Awards   \n",
       "4     2020 - 26th Annual Screen Actors Guild Awards   \n",
       "...                                             ...   \n",
       "5754                                           1963   \n",
       "5755                                           1962   \n",
       "5756                                           ESQ.   \n",
       "5757                                            NaN   \n",
       "5758                                            NaN   \n",
       "\n",
       "                        category          full_name  \\\n",
       "0       CAST IN A MOTION PICTURE                NaN   \n",
       "1       CAST IN A MOTION PICTURE                NaN   \n",
       "2       CAST IN A MOTION PICTURE                NaN   \n",
       "3       CAST IN A MOTION PICTURE                NaN   \n",
       "4       CAST IN A MOTION PICTURE                NaN   \n",
       "...                          ...                ...   \n",
       "5754            LIFE ACHIEVEMENT        STAN LAUREL   \n",
       "5755            LIFE ACHIEVEMENT       EDDIE CANTOR   \n",
       "5756                   MALE LEAD  DENZEL WASHINGTON   \n",
       "5757  ENSEMBLE IN A DRAMA SERIES                NaN   \n",
       "5758                FEMALE DRAMA       LAURA LINNEY   \n",
       "\n",
       "                                 show    won  \n",
       "0                           BOMBSHELL  False  \n",
       "1                        THE IRISHMAN  False  \n",
       "2                         JOJO RABBIT  False  \n",
       "3     ONCE UPON A TIME...IN HOLLYWOOD  False  \n",
       "4                            PARASITE   True  \n",
       "...                               ...    ...  \n",
       "5754                              NaN   True  \n",
       "5755                              NaN   True  \n",
       "5756                  ROMAN J. ISRAEL  False  \n",
       "5757                        THE CROWN  False  \n",
       "5758                            OZARK  False  \n",
       "\n",
       "[5759 rows x 5 columns]>"
      ]
     },
     "execution_count": 16,
     "metadata": {},
     "output_type": "execute_result"
    }
   ],
   "source": [
    "df[1].info # screen actors guild"
   ]
  },
  {
   "cell_type": "code",
   "execution_count": 18,
   "metadata": {},
   "outputs": [
    {
     "data": {
      "text/plain": [
       "<bound method DataFrame.info of       year                           category  \\\n",
       "0     1949        Film | British Film in 1949   \n",
       "1     1949        Film | British Film in 1949   \n",
       "2     1949        Film | British Film in 1949   \n",
       "3     1949        Film | British Film in 1949   \n",
       "4     1949        Film | British Film in 1949   \n",
       "...    ...                                ...   \n",
       "4171  2020  Film | Supporting Actress in 2020   \n",
       "4172  2020  Film | Supporting Actress in 2020   \n",
       "4173  2020  Film | Supporting Actress in 2020   \n",
       "4174  2020  Film | Supporting Actress in 2020   \n",
       "4175  2020  Film | Supporting Actress in 2020   \n",
       "\n",
       "                              nominee             workers  winner  \n",
       "0                     The Fallen Idol                 NaN    True  \n",
       "1                              Hamlet                 NaN   False  \n",
       "2                        Oliver Twist                 NaN   False  \n",
       "3                Once A Jolly Swagman                 NaN   False  \n",
       "4                       The Red Shoes                 NaN   False  \n",
       "...                               ...                 ...     ...  \n",
       "4171                   Marriage Story          Laura Dern    True  \n",
       "4172                      Jojo Rabbit  Scarlett Johansson   False  \n",
       "4173                     Little Women       Florence Pugh   False  \n",
       "4174                        Bombshell       Margot Robbie   False  \n",
       "4175  Once Upon a Time.. in Hollywood       Margot Robbie   False  \n",
       "\n",
       "[4176 rows x 5 columns]>"
      ]
     },
     "execution_count": 18,
     "metadata": {},
     "output_type": "execute_result"
    }
   ],
   "source": [
    "df[2].info # bafta"
   ]
  },
  {
   "cell_type": "code",
   "execution_count": 19,
   "metadata": {},
   "outputs": [
    {
     "data": {
      "text/plain": [
       "<bound method NDFrame.describe of        year_film  year_ceremony  ceremony                category  \\\n",
       "0           1927           1928         1                   ACTOR   \n",
       "1           1927           1928         1                   ACTOR   \n",
       "2           1927           1928         1                 ACTRESS   \n",
       "3           1927           1928         1                 ACTRESS   \n",
       "4           1927           1928         1                 ACTRESS   \n",
       "...          ...            ...       ...                     ...   \n",
       "10760       2022           2023        95          HONORARY AWARD   \n",
       "10761       2022           2023        95          HONORARY AWARD   \n",
       "10762       2022           2023        95          HONORARY AWARD   \n",
       "10763       2022           2023        95  GORDON E. SAWYER AWARD   \n",
       "10764       2022           2023        95   AWARD OF COMMENDATION   \n",
       "\n",
       "                                                    name                 film  \\\n",
       "0                                    Richard Barthelmess            The Noose   \n",
       "1                                          Emil Jannings     The Last Command   \n",
       "2                                         Louise Dresser      A Ship Comes In   \n",
       "3                                           Janet Gaynor           7th Heaven   \n",
       "4                                         Gloria Swanson       Sadie Thompson   \n",
       "...                                                  ...                  ...   \n",
       "10760  To Euzhan Palcy, a masterful filmmaker who bro...                  NaN   \n",
       "10761  To Diane Warren, for her genius, generosity an...                  NaN   \n",
       "10762  To Peter Weir, a fearless and consummate filmm...                  NaN   \n",
       "10763                                          Iain Neil                  NaN   \n",
       "10764  To Ryan Laney for his innovative adaptation an...  Welcome to Chechnya   \n",
       "\n",
       "       winner  \n",
       "0       False  \n",
       "1        True  \n",
       "2       False  \n",
       "3        True  \n",
       "4       False  \n",
       "...       ...  \n",
       "10760    True  \n",
       "10761    True  \n",
       "10762    True  \n",
       "10763    True  \n",
       "10764    True  \n",
       "\n",
       "[10765 rows x 7 columns]>"
      ]
     },
     "execution_count": 19,
     "metadata": {},
     "output_type": "execute_result"
    }
   ],
   "source": [
    "df[3].describe # oscars"
   ]
  },
  {
   "cell_type": "code",
   "execution_count": null,
   "metadata": {},
   "outputs": [],
   "source": []
  }
 ],
 "metadata": {
  "kernelspec": {
   "display_name": "base",
   "language": "python",
   "name": "python3"
  },
  "language_info": {
   "codemirror_mode": {
    "name": "ipython",
    "version": 3
   },
   "file_extension": ".py",
   "mimetype": "text/x-python",
   "name": "python",
   "nbconvert_exporter": "python",
   "pygments_lexer": "ipython3",
   "version": "3.11.4"
  }
 },
 "nbformat": 4,
 "nbformat_minor": 2
}
